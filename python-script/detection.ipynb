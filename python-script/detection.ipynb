{
 "cells": [
  {
   "cell_type": "code",
   "execution_count": 20,
   "metadata": {},
   "outputs": [],
   "source": [
    "import numpy as np\n",
    "import tensorflow as tf\n",
    "from keras.applications.inception_v3 import InceptionV3, preprocess_input, decode_predictions\n",
    "from keras.preprocessing import image\n",
    "import cv2"
   ]
  },
  {
   "cell_type": "code",
   "execution_count": 21,
   "metadata": {},
   "outputs": [],
   "source": [
    "model = InceptionV3(weights='imagenet')\n"
   ]
  },
  {
   "cell_type": "code",
   "execution_count": 24,
   "metadata": {},
   "outputs": [],
   "source": [
    "def detect(img_path):\n",
    "    img = image.load_img(img_path, target_size=(299, 299))\n",
    "    original = cv2.imread(img_path)\n",
    "    original = cv2.resize(original, (299, 299))\n",
    "\n",
    "    # Görüntüyü işle\n",
    "    img_array = image.img_to_array(img)\n",
    "    img_array = np.expand_dims(img_array, axis=0)\n",
    "    img_array = preprocess_input(img_array)\n",
    "\n",
    "    # Görüntüyü sınıflandır\n",
    "    predictions = model.predict(img_array)\n",
    "    decoded_predictions = decode_predictions(predictions, top=3)[0]\n",
    "    print('Predictions:')\n",
    "    for pred in decoded_predictions:\n",
    "        print(f\"{pred[1]}: {pred[2]*100:.2f}%\")\n",
    "\n",
    "    # Tahminleri görüntü üzerine çiz\n",
    "    for i, pred in enumerate(decoded_predictions):\n",
    "        label = f\"{pred[1]}: {pred[2]*100:.2f}%\"\n",
    "        cv2.putText(original, label, (10, 30 + i*30), cv2.FONT_HERSHEY_SIMPLEX, 0.8, (255, 255, 255), 2)\n",
    "\n",
    "    # Sonucu göster\n",
    "    cv2.imshow('Image with Predictions', original)\n",
    "    cv2.waitKey(0)\n",
    "    cv2.destroyAllWindows()\n"
   ]
  },
  {
   "cell_type": "code",
   "execution_count": 29,
   "metadata": {},
   "outputs": [
    {
     "name": "stdout",
     "output_type": "stream",
     "text": [
      "\u001b[1m1/1\u001b[0m \u001b[32m━━━━━━━━━━━━━━━━━━━━\u001b[0m\u001b[37m\u001b[0m \u001b[1m0s\u001b[0m 132ms/step\n",
      "Predictions:\n",
      "jersey: 85.10%\n",
      "drumstick: 0.70%\n",
      "brassiere: 0.67%\n"
     ]
    }
   ],
   "source": [
    "\n",
    "\n",
    "img_path = 'Test/test8.jpeg'\n",
    "\n",
    "detect(img_path)"
   ]
  }
 ],
 "metadata": {
  "kernelspec": {
   "display_name": "Python 3",
   "language": "python",
   "name": "python3"
  },
  "language_info": {
   "codemirror_mode": {
    "name": "ipython",
    "version": 3
   },
   "file_extension": ".py",
   "mimetype": "text/x-python",
   "name": "python",
   "nbconvert_exporter": "python",
   "pygments_lexer": "ipython3",
   "version": "3.12.2"
  }
 },
 "nbformat": 4,
 "nbformat_minor": 2
}
