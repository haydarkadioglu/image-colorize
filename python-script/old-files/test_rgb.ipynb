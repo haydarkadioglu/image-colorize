{
 "cells": [
  {
   "cell_type": "code",
   "execution_count": 1,
   "metadata": {},
   "outputs": [],
   "source": [
    "from keras.models import clone_model, load_model\n",
    "from skimage.color import rgb2lab, lab2rgb\n",
    "import numpy as np\n",
    "import os\n",
    "import cv2 as cv\n",
    "from keras.models import load_model\n",
    "from keras.losses import MeanSquaredError\n",
    "from keras.utils import CustomObjectScope\n",
    "from keras.metrics import mean_squared_error\n",
    "from datetime import datetime\n"
   ]
  },
  {
   "cell_type": "code",
   "execution_count": 2,
   "metadata": {},
   "outputs": [
    {
     "name": "stderr",
     "output_type": "stream",
     "text": [
      "WARNING:absl:Compiled the loaded model, but the compiled metrics have yet to be built. `model.compile_metrics` will be empty until you train or evaluate the model.\n"
     ]
    }
   ],
   "source": [
    "mse = mean_squared_error\n",
    "\n",
    "\n",
    "\n",
    "with CustomObjectScope({'mse': mse}):\n",
    "    model = load_model(\"Models\\\\nature_rgb.h5\")\n",
    "    model.compile(optimizer='adam', loss='mse', metrics=['accuracy'])"
   ]
  },
  {
   "cell_type": "code",
   "execution_count": 7,
   "metadata": {},
   "outputs": [],
   "source": [
    "def color_me2(image1, model):\n",
    "    original_shape = image1.shape[:2]\n",
    "    #image1 = np.array(image1, dtype=float)\n",
    "    X = (1.0/255*image1)[:, :]\n",
    "    \n",
    "    X = X.reshape(1, original_shape[0], original_shape[1], 1)\n",
    "\n",
    "    output = model.predict(X)\n",
    "    #output = output * 255\n",
    "    \n",
    "    # output_resized = resize(output[0], (original_shape[0], original_shape[1], 2))\n",
    "\n",
    "    cur = np.zeros((original_shape[0], original_shape[1], 3))\n",
    "    #cur[:, :, 0] = X[0, :, :, 0]\n",
    "    # Burada output yerine output_resized kullanılabilir.\n",
    "    cur[:, :, :] = output[0][:original_shape[0], :original_shape[1], :]\n",
    "\n",
    "    # Y = (1.0/255*cur)[:,:,1:]\n",
    "    # Y /= 128\n",
    "    \n",
    "    # Y = Y.reshape(1, original_shape[0], original_shape[1], 2)   \n",
    "    \n",
    "    # print(model.evaluate(X, Y, batch_size=1))\n",
    "    \n",
    "    return cur"
   ]
  },
  {
   "cell_type": "code",
   "execution_count": 10,
   "metadata": {},
   "outputs": [
    {
     "name": "stdout",
     "output_type": "stream",
     "text": [
      "\u001b[1m1/1\u001b[0m \u001b[32m━━━━━━━━━━━━━━━━━━━━\u001b[0m\u001b[37m\u001b[0m \u001b[1m1s\u001b[0m 559ms/step\n"
     ]
    }
   ],
   "source": [
    "get_image = cv.imread(\"Test\\\\test4.jpg\")\n",
    "get_image = cv.cvtColor(get_image, cv.COLOR_BGR2GRAY)\n",
    "get_image = cv.resize(get_image, (get_image.shape[1]//3, get_image.shape[0]//3))\n",
    "#cur = color_me2(get_image)\n",
    "#image = lab2rgb(cur)\n",
    "\n",
    "image = (color_me2(get_image, model))\n",
    "\n",
    "#imagee = rgb2gray(lab2rgb(cur))\n",
    "cv.imshow(\"aa\", image)\n",
    "cv.imshow(\"aaa\", get_image)\n",
    "cv.waitKey()\n",
    "cv.destroyAllWindows()"
   ]
  }
 ],
 "metadata": {
  "kernelspec": {
   "display_name": "Python 3",
   "language": "python",
   "name": "python3"
  },
  "language_info": {
   "codemirror_mode": {
    "name": "ipython",
    "version": 3
   },
   "file_extension": ".py",
   "mimetype": "text/x-python",
   "name": "python",
   "nbconvert_exporter": "python",
   "pygments_lexer": "ipython3",
   "version": "3.12.2"
  }
 },
 "nbformat": 4,
 "nbformat_minor": 2
}
