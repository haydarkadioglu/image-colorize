{
 "cells": [
  {
   "cell_type": "code",
   "execution_count": 2,
   "metadata": {},
   "outputs": [],
   "source": [
    "from keras.models import clone_model, load_model\n",
    "from PIL import Image\n",
    "import numpy as np\n",
    "import os\n",
    "from skimage.color import rgb2lab, lab2rgb\n",
    "\n",
    "import cv2 as cv\n",
    "from keras.losses import MeanSquaredError\n",
    "from keras.utils import CustomObjectScope\n",
    "from keras.metrics import mean_squared_error\n",
    "from datetime import datetime"
   ]
  },
  {
   "cell_type": "code",
   "execution_count": 3,
   "metadata": {},
   "outputs": [
    {
     "name": "stderr",
     "output_type": "stream",
     "text": [
      "WARNING:absl:Compiled the loaded model, but the compiled metrics have yet to be built. `model.compile_metrics` will be empty until you train or evaluate the model.\n",
      "WARNING:absl:Compiled the loaded model, but the compiled metrics have yet to be built. `model.compile_metrics` will be empty until you train or evaluate the model.\n"
     ]
    }
   ],
   "source": [
    "mse = mean_squared_error\n",
    "\n",
    "\n",
    "\n",
    "with CustomObjectScope({'mse': mse}):\n",
    "    model = load_model(\"Models\\\\humans_portrait.h5\")\n",
    "    model.compile(optimizer='adam', loss='mse', metrics=['accuracy'])\n",
    "\n",
    "with CustomObjectScope({'mse': mse}):\n",
    "    sharp = load_model(\"SR_test3.h5\")\n",
    "    sharp.compile(optimizer='adam', loss='mse', metrics=['accuracy'])"
   ]
  },
  {
   "cell_type": "code",
   "execution_count": 4,
   "metadata": {},
   "outputs": [],
   "source": [
    "def predict_model(image): \n",
    "    image1 = (np.array(image).astype(\"float32\")/255)\n",
    "    image1= image1.reshape(-1, image.shape[0], image.shape[1], 3)\n",
    "    image2 = sharp.predict(image1)\n",
    "\n",
    "\n",
    "    image2 = image2.reshape(image2.shape[1], image2.shape[2], image2.shape[3])\n",
    "    cur = np.zeros((image2.shape[0], image2.shape[1], 3), dtype=np.float32)\n",
    "    cur[:,:,:] = image2[:, :, :]\n",
    "    return cur\n"
   ]
  },
  {
   "cell_type": "code",
   "execution_count": 4,
   "metadata": {},
   "outputs": [],
   "source": [
    "\n",
    "def color_me2(image1, model):\n",
    "    original_shape = image1.shape[:2]\n",
    "    #image1 = np.array(image1, dtype=float)\n",
    "    X = rgb2lab(1.0/255*image1)[:, :, 0]\n",
    "    \n",
    "    X = X.reshape(1, original_shape[0], original_shape[1], 1)\n",
    "\n",
    "    output = model.predict(X)\n",
    "    output = output * 128\n",
    "    \n",
    "    # output_resized = resize(output[0], (original_shape[0], original_shape[1], 2))\n",
    "\n",
    "    cur = np.zeros((original_shape[0], original_shape[1], 3))\n",
    "    cur[:, :, 0] = X[0, :, :, 0]\n",
    "    # Burada output yerine output_resized kullanılabilir.\n",
    "    cur[:, :, 1:] = output[0][:original_shape[0], :original_shape[1], :]\n",
    "\n",
    "    # Y = (1.0/255*cur)[:,:,1:]\n",
    "    # Y /= 128\n",
    "    \n",
    "    # Y = Y.reshape(1, original_shape[0], original_shape[1], 2)   \n",
    "    \n",
    "    # print(model.evaluate(X, Y, batch_size=1))\n",
    "    \n",
    "    return lab2rgb(cur)"
   ]
  },
  {
   "cell_type": "code",
   "execution_count": 8,
   "metadata": {},
   "outputs": [],
   "source": [
    "\n",
    "\n",
    "def colorize_video(input_video_path, output_video_name):\n",
    "    \n",
    "    cap = cv.VideoCapture(input_video_path)\n",
    "    \n",
    "    frame_width = int(cap.get(cv.CAP_PROP_FRAME_WIDTH))\n",
    "    frame_height = int(cap.get(cv.CAP_PROP_FRAME_HEIGHT))\n",
    "    fps = 60\n",
    "    total_frames = int(cap.get(cv.CAP_PROP_FRAME_COUNT))\n",
    "    codec = cv.VideoWriter_fourcc(\"M\", \"P\", \"4\", \"V\")\n",
    "\n",
    "\n",
    "    \n",
    "    out = cv.VideoWriter(output_video_name, codec, fps, (frame_width, frame_height))\n",
    "    \n",
    "    count = 0\n",
    "    while True:\n",
    "        ret, frame = cap.read()\n",
    "        if not ret:\n",
    "            break\n",
    "        \n",
    "        \n",
    "\n",
    "\n",
    "        colorized_frame = color_me2(frame, model)\n",
    "        colorized_frame = (predict_model(colorized_frame)*255).astype(np.uint8)\n",
    "\n",
    "\n",
    "        out.write(colorized_frame)\n",
    "\n",
    "        if count == 30:\n",
    "            break\n",
    "        \n",
    "\n",
    "        count+=1\n",
    "        print(count, \"/\", total_frames)\n",
    "\n",
    "    \n",
    "    cap.release()\n",
    "    out.release()\n",
    "    "
   ]
  },
  {
   "cell_type": "code",
   "execution_count": 7,
   "metadata": {},
   "outputs": [
    {
     "ename": "NameError",
     "evalue": "name 'colorize_video' is not defined",
     "output_type": "error",
     "traceback": [
      "\u001b[1;31m---------------------------------------------------------------------------\u001b[0m",
      "\u001b[1;31mNameError\u001b[0m                                 Traceback (most recent call last)",
      "Cell \u001b[1;32mIn[7], line 7\u001b[0m\n\u001b[0;32m      4\u001b[0m input_video \u001b[38;5;241m=\u001b[39m \u001b[38;5;124m\"\u001b[39m\u001b[38;5;124mTest\u001b[39m\u001b[38;5;130;01m\\\\\u001b[39;00m\u001b[38;5;124mVID_48830720_044431_226.mp4\u001b[39m\u001b[38;5;124m\"\u001b[39m\n\u001b[0;32m      5\u001b[0m output_video \u001b[38;5;241m=\u001b[39m \u001b[38;5;124mf\u001b[39m\u001b[38;5;124m\"\u001b[39m\u001b[38;5;124mTest\u001b[39m\u001b[38;5;130;01m\\\\\u001b[39;00m\u001b[38;5;132;01m{\u001b[39;00mname\u001b[38;5;132;01m}\u001b[39;00m\u001b[38;5;124m.mp4\u001b[39m\u001b[38;5;124m\"\u001b[39m\n\u001b[1;32m----> 7\u001b[0m \u001b[43mcolorize_video\u001b[49m(input_video, output_video)\n",
      "\u001b[1;31mNameError\u001b[0m: name 'colorize_video' is not defined"
     ]
    }
   ],
   "source": [
    "now = datetime.now()\n",
    "name = now.strftime(\"%m%d%Y_%H%M%S\")\n",
    "\n",
    "input_video = \"Test\\\\VID_48830720_044431_226.mp4\"\n",
    "output_video = f\"Test\\\\{name}.mp4\"\n",
    "\n",
    "colorize_video(input_video, output_video)"
   ]
  },
  {
   "cell_type": "code",
   "execution_count": 8,
   "metadata": {},
   "outputs": [
    {
     "name": "stdout",
     "output_type": "stream",
     "text": [
      "shapes:  (259, 194, 3)\n",
      "\u001b[1m1/1\u001b[0m \u001b[32m━━━━━━━━━━━━━━━━━━━━\u001b[0m\u001b[37m\u001b[0m \u001b[1m0s\u001b[0m 41ms/step\n",
      "shapes:  (518, 388, 3)\n",
      "dtype:  uint8\n",
      "value:   42\n"
     ]
    }
   ],
   "source": [
    "\n",
    "\n",
    "now = datetime.now()\n",
    "name = now.strftime(\"%m%d%Y_%H%M%S\")\n",
    "\n",
    "input = \"Test\\\\test8.jpeg\"\n",
    "output = f\"Test\\\\{name}.png\"\n",
    "\n",
    "image = cv.imread(\"Test\\\\test8.jpeg\")\n",
    "print(\"shapes: \", image.shape[:])\n",
    "\n",
    "predicted = (predict_model(image)*255).astype(np.uint8)\n",
    "# predicted = (predict_model(predicted)*255).astype(np.uint8)\n",
    "\n",
    "\n",
    "print(\"shapes: \", predicted.shape[:])\n",
    "print(\"dtype: \", predicted.dtype)\n",
    "print(\"value:  \", predicted[6,7,2].astype(np.uint8))\n",
    "\n",
    "\n",
    "\n"
   ]
  },
  {
   "cell_type": "code",
   "execution_count": 15,
   "metadata": {},
   "outputs": [],
   "source": [
    "# cv.imshow(\"org\", image)\n",
    "\n",
    "\n",
    "cv.imshow(\"predicted\", predicted)\n",
    "kernel = np.array([[0, -1, 0], \n",
    "                   [-1, 5,-1], \n",
    "                   [0, -1, 0]])\n",
    "\n",
    "gaussian_blur = cv.GaussianBlur(predicted, (3, 3), 5.0)\n",
    "\n",
    "\n",
    "\n",
    "sharpened = cv.filter2D(gaussian_blur, -1, kernel)\n",
    "\n",
    "\n",
    "# Sonucu göster\n",
    "cv.imshow('Unsharp Mask', sharpened)\n",
    "cv.imshow('gaussian Mask', gaussian_blur)\n",
    "# cv.imshow('resize', cv.resize(image, dsize=(388, 518)))\n",
    "cv.waitKey()\n",
    "cv.destroyAllWindows()"
   ]
  },
  {
   "cell_type": "code",
   "execution_count": null,
   "metadata": {},
   "outputs": [],
   "source": [
    "\n",
    "\n",
    "img = Image.fromarray(predicted)\n",
    "\n",
    "img.save(output)"
   ]
  }
 ],
 "metadata": {
  "kernelspec": {
   "display_name": "Python 3",
   "language": "python",
   "name": "python3"
  },
  "language_info": {
   "codemirror_mode": {
    "name": "ipython",
    "version": 3
   },
   "file_extension": ".py",
   "mimetype": "text/x-python",
   "name": "python",
   "nbconvert_exporter": "python",
   "pygments_lexer": "ipython3",
   "version": "3.12.2"
  }
 },
 "nbformat": 4,
 "nbformat_minor": 2
}
